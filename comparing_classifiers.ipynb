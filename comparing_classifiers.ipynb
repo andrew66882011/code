{
  "nbformat": 4,
  "nbformat_minor": 0,
  "metadata": {
    "kernelspec": {
      "display_name": "Python 3",
      "language": "python",
      "name": "python3"
    },
    "language_info": {
      "codemirror_mode": {
        "name": "ipython",
        "version": 3
      },
      "file_extension": ".py",
      "mimetype": "text/x-python",
      "name": "python",
      "nbconvert_exporter": "python",
      "pygments_lexer": "ipython3",
      "version": "3.7.6"
    },
    "colab": {
      "name": "comparing-classifiers.ipynb",
      "provenance": [],
      "include_colab_link": true
    }
  },
  "cells": [
    {
      "cell_type": "markdown",
      "metadata": {
        "id": "view-in-github",
        "colab_type": "text"
      },
      "source": [
        "<a href=\"https://colab.research.google.com/github/andrew66882011/code/blob/master/comparing_classifiers.ipynb\" target=\"_parent\"><img src=\"https://colab.research.google.com/assets/colab-badge.svg\" alt=\"Open In Colab\"/></a>"
      ]
    },
    {
      "cell_type": "code",
      "metadata": {
        "id": "cEhDrAIypppT"
      },
      "source": [
        "```markdown\n",
        "[![Open In Colab](https://colab.research.google.com/assets/colab-badge.svg)](https://colab.research.google.com/github/googlecolab/colabtools/blob/master/notebooks/colab-github-demo.ipynb)\n",
        "```"
      ],
      "execution_count": null,
      "outputs": []
    },
    {
      "cell_type": "markdown",
      "metadata": {
        "id": "xLRqh3DPjODo"
      },
      "source": [
        "# Comparing Classifiers for Building Classification Models\n",
        "\n",
        "Chanin Nantasenamat\n",
        "\n",
        "<i>Data Professor YouTube channel, http://youtube.com/dataprofessor </i>\n",
        "\n",
        "In this Jupyter notebook, we will be comparing the performance of different classifiers for building classification models."
      ]
    },
    {
      "cell_type": "markdown",
      "metadata": {
        "id": "oW5yaZajjODt"
      },
      "source": [
        "## 1. Make synthetic dataset"
      ]
    },
    {
      "cell_type": "markdown",
      "metadata": {
        "id": "_0Nxf8PKjODt"
      },
      "source": [
        "### 1.1. Import library"
      ]
    },
    {
      "cell_type": "code",
      "metadata": {
        "id": "SFdp1ejrjODt"
      },
      "source": [
        "from sklearn.datasets import make_classification"
      ],
      "execution_count": null,
      "outputs": []
    },
    {
      "cell_type": "markdown",
      "metadata": {
        "id": "AaPBjp9vjODu"
      },
      "source": [
        "### 1.2. Generate the dataset"
      ]
    },
    {
      "cell_type": "code",
      "metadata": {
        "id": "8ZbUEDaxjODu"
      },
      "source": [
        "X, Y = make_classification(n_samples=1000, n_classes=2, n_features=5, n_redundant=0, random_state=1)"
      ],
      "execution_count": null,
      "outputs": []
    },
    {
      "cell_type": "markdown",
      "metadata": {
        "id": "cH8qB_u5jODu"
      },
      "source": [
        "### 1.3. Let's examine the data dimension"
      ]
    },
    {
      "cell_type": "code",
      "metadata": {
        "colab": {
          "base_uri": "https://localhost:8080/"
        },
        "id": "GmOjlSP5jODu",
        "outputId": "10d52de8-9de5-4cce-d9ef-634a861c9320"
      },
      "source": [
        "X.shape"
      ],
      "execution_count": null,
      "outputs": [
        {
          "output_type": "execute_result",
          "data": {
            "text/plain": [
              "(1000, 5)"
            ]
          },
          "metadata": {
            "tags": []
          },
          "execution_count": 18
        }
      ]
    },
    {
      "cell_type": "code",
      "metadata": {
        "colab": {
          "base_uri": "https://localhost:8080/"
        },
        "id": "bmdgDQoHjODx",
        "outputId": "9d55a657-f306-40e6-bf77-f1298cc9bc0f"
      },
      "source": [
        "Y.shape"
      ],
      "execution_count": null,
      "outputs": [
        {
          "output_type": "execute_result",
          "data": {
            "text/plain": [
              "(1000,)"
            ]
          },
          "metadata": {
            "tags": []
          },
          "execution_count": 4
        }
      ]
    },
    {
      "cell_type": "markdown",
      "metadata": {
        "id": "jSIojD-IjODy"
      },
      "source": [
        "## 2. Data split (80/20 ratio)"
      ]
    },
    {
      "cell_type": "markdown",
      "metadata": {
        "id": "3CxGbmt3jODy"
      },
      "source": [
        "### 2.1. Import library"
      ]
    },
    {
      "cell_type": "code",
      "metadata": {
        "id": "-lTHD_adjODy"
      },
      "source": [
        "from sklearn.model_selection import train_test_split"
      ],
      "execution_count": null,
      "outputs": []
    },
    {
      "cell_type": "markdown",
      "metadata": {
        "id": "I7T6g-gBjODy"
      },
      "source": [
        "### 2.2. Data split"
      ]
    },
    {
      "cell_type": "code",
      "metadata": {
        "id": "gA86ZMdTjODy"
      },
      "source": [
        "X_train, X_test, Y_train, Y_test = train_test_split(X, Y, test_size=0.2)"
      ],
      "execution_count": null,
      "outputs": []
    },
    {
      "cell_type": "markdown",
      "metadata": {
        "id": "E6e4os8tjODy"
      },
      "source": [
        "### 2.3. Let's examine the data dimension"
      ]
    },
    {
      "cell_type": "code",
      "metadata": {
        "colab": {
          "base_uri": "https://localhost:8080/"
        },
        "id": "5xx2nvhVjODz",
        "outputId": "5239b352-90f4-4b8f-e75a-a09a5c5f9a23"
      },
      "source": [
        "X_train.shape, Y_train.shape"
      ],
      "execution_count": null,
      "outputs": [
        {
          "output_type": "execute_result",
          "data": {
            "text/plain": [
              "((800, 5), (800,))"
            ]
          },
          "metadata": {
            "tags": []
          },
          "execution_count": 7
        }
      ]
    },
    {
      "cell_type": "code",
      "metadata": {
        "colab": {
          "base_uri": "https://localhost:8080/"
        },
        "id": "qu5Qk9C2jODz",
        "outputId": "147a19fa-1b0f-4185-a236-e21dc3aa93b9"
      },
      "source": [
        "X_test.shape, Y_test.shape"
      ],
      "execution_count": null,
      "outputs": [
        {
          "output_type": "execute_result",
          "data": {
            "text/plain": [
              "((200, 5), (200,))"
            ]
          },
          "metadata": {
            "tags": []
          },
          "execution_count": 8
        }
      ]
    },
    {
      "cell_type": "markdown",
      "metadata": {
        "id": "TjY1rZ-5jODz"
      },
      "source": [
        "## 3. Build Classification Models\n",
        "\n",
        "Modified from: https://scikit-learn.org/stable/auto_examples/classification/plot_classifier_comparison.html"
      ]
    },
    {
      "cell_type": "markdown",
      "metadata": {
        "id": "uE28p8HHjODz"
      },
      "source": [
        "### 3.1. Import modules"
      ]
    },
    {
      "cell_type": "code",
      "metadata": {
        "id": "MIofpiUPjODz"
      },
      "source": [
        "import pandas as pd\n",
        "\n",
        "from sklearn.neural_network import MLPClassifier\n",
        "from sklearn.neighbors import KNeighborsClassifier\n",
        "from sklearn.svm import SVC\n",
        "from sklearn.gaussian_process import GaussianProcessClassifier\n",
        "from sklearn.ensemble import GradientBoostingClassifier\n",
        "from sklearn.gaussian_process.kernels import RBF\n",
        "from sklearn.tree import DecisionTreeClassifier\n",
        "from sklearn.ensemble import ExtraTreesClassifier\n",
        "from sklearn.ensemble import RandomForestClassifier, AdaBoostClassifier\n",
        "from sklearn.naive_bayes import GaussianNB\n",
        "from sklearn.discriminant_analysis import QuadraticDiscriminantAnalysis\n",
        "from sklearn.linear_model import SGDClassifier"
      ],
      "execution_count": null,
      "outputs": []
    },
    {
      "cell_type": "markdown",
      "metadata": {
        "id": "9S2YHL0VjODz"
      },
      "source": [
        "### 3.2. Defining learning classifiers"
      ]
    },
    {
      "cell_type": "code",
      "metadata": {
        "id": "ws3JH5i-jOD0"
      },
      "source": [
        "names = [\"Nearest_Neighbors\", \"Linear_SVM\", \"Polynomial_SVM\", \"RBF_SVM\", \"Gaussian_Process\",\n",
        "         \"Gradient_Boosting\", \"Decision_Tree\", \"Extra_Trees\", \"Random_Forest\", \"Neural_Net\", \"AdaBoost\",\n",
        "         \"Naive_Bayes\", \"QDA\", \"SGD\"]\n",
        "\n",
        "classifiers = [\n",
        "    KNeighborsClassifier(3),\n",
        "    SVC(kernel=\"linear\", C=0.025),\n",
        "    SVC(kernel=\"poly\", degree=3, C=0.025),\n",
        "    SVC(kernel=\"rbf\", C=1, gamma=2),\n",
        "    GaussianProcessClassifier(1.0 * RBF(1.0)),\n",
        "    GradientBoostingClassifier(n_estimators=100, learning_rate=1.0),\n",
        "    DecisionTreeClassifier(max_depth=5),\n",
        "    ExtraTreesClassifier(n_estimators=10, min_samples_split=2),\n",
        "    RandomForestClassifier(max_depth=5, n_estimators=100),\n",
        "    MLPClassifier(alpha=1, max_iter=1000),\n",
        "    AdaBoostClassifier(n_estimators=100),\n",
        "    GaussianNB(),\n",
        "    QuadraticDiscriminantAnalysis(),\n",
        "    SGDClassifier(loss=\"hinge\", penalty=\"l2\")]"
      ],
      "execution_count": null,
      "outputs": []
    },
    {
      "cell_type": "markdown",
      "metadata": {
        "id": "KqbfPNZFjOD0"
      },
      "source": [
        "### 3.3. Build Model, Apply Model on Test Data & Record Accuracy Scores"
      ]
    },
    {
      "cell_type": "code",
      "metadata": {
        "id": "9xnul9gDjOD0"
      },
      "source": [
        "scores = []\n",
        "for name, clf in zip(names, classifiers):\n",
        "    clf.fit(X_train, Y_train)\n",
        "    score = clf.score(X_test, Y_test)\n",
        "    scores.append(score)"
      ],
      "execution_count": null,
      "outputs": []
    },
    {
      "cell_type": "code",
      "metadata": {
        "colab": {
          "base_uri": "https://localhost:8080/"
        },
        "id": "sAslaohojOD0",
        "outputId": "034ab6e1-3135-46a8-d0b4-df4b307ae784"
      },
      "source": [
        "scores"
      ],
      "execution_count": null,
      "outputs": [
        {
          "output_type": "execute_result",
          "data": {
            "text/plain": [
              "[0.85,\n",
              " 0.87,\n",
              " 0.845,\n",
              " 0.825,\n",
              " 0.885,\n",
              " 0.835,\n",
              " 0.825,\n",
              " 0.865,\n",
              " 0.88,\n",
              " 0.88,\n",
              " 0.87,\n",
              " 0.875,\n",
              " 0.865,\n",
              " 0.85]"
            ]
          },
          "metadata": {
            "tags": []
          },
          "execution_count": 12
        }
      ]
    },
    {
      "cell_type": "markdown",
      "metadata": {
        "id": "16ZXmPGsjOD0"
      },
      "source": [
        "## 4. Analysis of Model Performance"
      ]
    },
    {
      "cell_type": "markdown",
      "metadata": {
        "id": "2pHFBBVejOD0"
      },
      "source": [
        "### 4.1. Import library"
      ]
    },
    {
      "cell_type": "code",
      "metadata": {
        "id": "rRr-eL5sjOD1"
      },
      "source": [
        "import pandas as pd\n",
        "import seaborn as sns"
      ],
      "execution_count": null,
      "outputs": []
    },
    {
      "cell_type": "markdown",
      "metadata": {
        "id": "ZHYUTgq3jOD1"
      },
      "source": [
        "### 4.2. Create data frame of *model performance*"
      ]
    },
    {
      "cell_type": "code",
      "metadata": {
        "colab": {
          "base_uri": "https://localhost:8080/",
          "height": 483
        },
        "id": "s2HL05dBjOD1",
        "outputId": "5534a010-9475-43aa-adc7-9bfdeb2c224a"
      },
      "source": [
        "df = pd.DataFrame()\n",
        "df['name'] = names\n",
        "df['score'] = scores\n",
        "df"
      ],
      "execution_count": null,
      "outputs": [
        {
          "output_type": "execute_result",
          "data": {
            "text/html": [
              "<div>\n",
              "<style scoped>\n",
              "    .dataframe tbody tr th:only-of-type {\n",
              "        vertical-align: middle;\n",
              "    }\n",
              "\n",
              "    .dataframe tbody tr th {\n",
              "        vertical-align: top;\n",
              "    }\n",
              "\n",
              "    .dataframe thead th {\n",
              "        text-align: right;\n",
              "    }\n",
              "</style>\n",
              "<table border=\"1\" class=\"dataframe\">\n",
              "  <thead>\n",
              "    <tr style=\"text-align: right;\">\n",
              "      <th></th>\n",
              "      <th>name</th>\n",
              "      <th>score</th>\n",
              "    </tr>\n",
              "  </thead>\n",
              "  <tbody>\n",
              "    <tr>\n",
              "      <th>0</th>\n",
              "      <td>Nearest_Neighbors</td>\n",
              "      <td>0.850</td>\n",
              "    </tr>\n",
              "    <tr>\n",
              "      <th>1</th>\n",
              "      <td>Linear_SVM</td>\n",
              "      <td>0.870</td>\n",
              "    </tr>\n",
              "    <tr>\n",
              "      <th>2</th>\n",
              "      <td>Polynomial_SVM</td>\n",
              "      <td>0.845</td>\n",
              "    </tr>\n",
              "    <tr>\n",
              "      <th>3</th>\n",
              "      <td>RBF_SVM</td>\n",
              "      <td>0.825</td>\n",
              "    </tr>\n",
              "    <tr>\n",
              "      <th>4</th>\n",
              "      <td>Gaussian_Process</td>\n",
              "      <td>0.885</td>\n",
              "    </tr>\n",
              "    <tr>\n",
              "      <th>5</th>\n",
              "      <td>Gradient_Boosting</td>\n",
              "      <td>0.835</td>\n",
              "    </tr>\n",
              "    <tr>\n",
              "      <th>6</th>\n",
              "      <td>Decision_Tree</td>\n",
              "      <td>0.825</td>\n",
              "    </tr>\n",
              "    <tr>\n",
              "      <th>7</th>\n",
              "      <td>Extra_Trees</td>\n",
              "      <td>0.865</td>\n",
              "    </tr>\n",
              "    <tr>\n",
              "      <th>8</th>\n",
              "      <td>Random_Forest</td>\n",
              "      <td>0.880</td>\n",
              "    </tr>\n",
              "    <tr>\n",
              "      <th>9</th>\n",
              "      <td>Neural_Net</td>\n",
              "      <td>0.880</td>\n",
              "    </tr>\n",
              "    <tr>\n",
              "      <th>10</th>\n",
              "      <td>AdaBoost</td>\n",
              "      <td>0.870</td>\n",
              "    </tr>\n",
              "    <tr>\n",
              "      <th>11</th>\n",
              "      <td>Naive_Bayes</td>\n",
              "      <td>0.875</td>\n",
              "    </tr>\n",
              "    <tr>\n",
              "      <th>12</th>\n",
              "      <td>QDA</td>\n",
              "      <td>0.865</td>\n",
              "    </tr>\n",
              "    <tr>\n",
              "      <th>13</th>\n",
              "      <td>SGD</td>\n",
              "      <td>0.850</td>\n",
              "    </tr>\n",
              "  </tbody>\n",
              "</table>\n",
              "</div>"
            ],
            "text/plain": [
              "                 name  score\n",
              "0   Nearest_Neighbors  0.850\n",
              "1          Linear_SVM  0.870\n",
              "2      Polynomial_SVM  0.845\n",
              "3             RBF_SVM  0.825\n",
              "4    Gaussian_Process  0.885\n",
              "5   Gradient_Boosting  0.835\n",
              "6       Decision_Tree  0.825\n",
              "7         Extra_Trees  0.865\n",
              "8       Random_Forest  0.880\n",
              "9          Neural_Net  0.880\n",
              "10           AdaBoost  0.870\n",
              "11        Naive_Bayes  0.875\n",
              "12                QDA  0.865\n",
              "13                SGD  0.850"
            ]
          },
          "metadata": {
            "tags": []
          },
          "execution_count": 14
        }
      ]
    },
    {
      "cell_type": "markdown",
      "metadata": {
        "id": "Sxfj9wPqjOD1"
      },
      "source": [
        "### 4.3. Adding colors to the data frame"
      ]
    },
    {
      "cell_type": "code",
      "metadata": {
        "scrolled": true,
        "colab": {
          "base_uri": "https://localhost:8080/",
          "height": 334
        },
        "id": "O8LT5Ns1jOD1",
        "outputId": "9fd925eb-899f-469a-a935-8d9366b3d2cd"
      },
      "source": [
        "#https://pandas.pydata.org/pandas-docs/stable/user_guide/style.html\n",
        "\n",
        "cm = sns.light_palette(\"green\", as_cmap=True)\n",
        "s = df.style.background_gradient(cmap=cm)\n",
        "s"
      ],
      "execution_count": null,
      "outputs": [
        {
          "output_type": "execute_result",
          "data": {
            "text/html": [
              "<style  type=\"text/css\" >\n",
              "#T_45fedd42_4f05_11eb_aefb_0242ac1c0002row0_col1,#T_45fedd42_4f05_11eb_aefb_0242ac1c0002row13_col1{\n",
              "            background-color:  #89c389;\n",
              "            color:  #000000;\n",
              "        }#T_45fedd42_4f05_11eb_aefb_0242ac1c0002row1_col1,#T_45fedd42_4f05_11eb_aefb_0242ac1c0002row10_col1{\n",
              "            background-color:  #3a9c3a;\n",
              "            color:  #000000;\n",
              "        }#T_45fedd42_4f05_11eb_aefb_0242ac1c0002row2_col1{\n",
              "            background-color:  #9ccd9c;\n",
              "            color:  #000000;\n",
              "        }#T_45fedd42_4f05_11eb_aefb_0242ac1c0002row3_col1,#T_45fedd42_4f05_11eb_aefb_0242ac1c0002row6_col1{\n",
              "            background-color:  #ebf3eb;\n",
              "            color:  #000000;\n",
              "        }#T_45fedd42_4f05_11eb_aefb_0242ac1c0002row4_col1{\n",
              "            background-color:  #008000;\n",
              "            color:  #f1f1f1;\n",
              "        }#T_45fedd42_4f05_11eb_aefb_0242ac1c0002row5_col1{\n",
              "            background-color:  #c4e0c4;\n",
              "            color:  #000000;\n",
              "        }#T_45fedd42_4f05_11eb_aefb_0242ac1c0002row7_col1,#T_45fedd42_4f05_11eb_aefb_0242ac1c0002row12_col1{\n",
              "            background-color:  #4ea64e;\n",
              "            color:  #000000;\n",
              "        }#T_45fedd42_4f05_11eb_aefb_0242ac1c0002row8_col1,#T_45fedd42_4f05_11eb_aefb_0242ac1c0002row9_col1{\n",
              "            background-color:  #138913;\n",
              "            color:  #f1f1f1;\n",
              "        }#T_45fedd42_4f05_11eb_aefb_0242ac1c0002row11_col1{\n",
              "            background-color:  #279327;\n",
              "            color:  #000000;\n",
              "        }</style><table id=\"T_45fedd42_4f05_11eb_aefb_0242ac1c0002\" ><thead>    <tr>        <th class=\"blank level0\" ></th>        <th class=\"col_heading level0 col0\" >name</th>        <th class=\"col_heading level0 col1\" >score</th>    </tr></thead><tbody>\n",
              "                <tr>\n",
              "                        <th id=\"T_45fedd42_4f05_11eb_aefb_0242ac1c0002level0_row0\" class=\"row_heading level0 row0\" >0</th>\n",
              "                        <td id=\"T_45fedd42_4f05_11eb_aefb_0242ac1c0002row0_col0\" class=\"data row0 col0\" >Nearest_Neighbors</td>\n",
              "                        <td id=\"T_45fedd42_4f05_11eb_aefb_0242ac1c0002row0_col1\" class=\"data row0 col1\" >0.850000</td>\n",
              "            </tr>\n",
              "            <tr>\n",
              "                        <th id=\"T_45fedd42_4f05_11eb_aefb_0242ac1c0002level0_row1\" class=\"row_heading level0 row1\" >1</th>\n",
              "                        <td id=\"T_45fedd42_4f05_11eb_aefb_0242ac1c0002row1_col0\" class=\"data row1 col0\" >Linear_SVM</td>\n",
              "                        <td id=\"T_45fedd42_4f05_11eb_aefb_0242ac1c0002row1_col1\" class=\"data row1 col1\" >0.870000</td>\n",
              "            </tr>\n",
              "            <tr>\n",
              "                        <th id=\"T_45fedd42_4f05_11eb_aefb_0242ac1c0002level0_row2\" class=\"row_heading level0 row2\" >2</th>\n",
              "                        <td id=\"T_45fedd42_4f05_11eb_aefb_0242ac1c0002row2_col0\" class=\"data row2 col0\" >Polynomial_SVM</td>\n",
              "                        <td id=\"T_45fedd42_4f05_11eb_aefb_0242ac1c0002row2_col1\" class=\"data row2 col1\" >0.845000</td>\n",
              "            </tr>\n",
              "            <tr>\n",
              "                        <th id=\"T_45fedd42_4f05_11eb_aefb_0242ac1c0002level0_row3\" class=\"row_heading level0 row3\" >3</th>\n",
              "                        <td id=\"T_45fedd42_4f05_11eb_aefb_0242ac1c0002row3_col0\" class=\"data row3 col0\" >RBF_SVM</td>\n",
              "                        <td id=\"T_45fedd42_4f05_11eb_aefb_0242ac1c0002row3_col1\" class=\"data row3 col1\" >0.825000</td>\n",
              "            </tr>\n",
              "            <tr>\n",
              "                        <th id=\"T_45fedd42_4f05_11eb_aefb_0242ac1c0002level0_row4\" class=\"row_heading level0 row4\" >4</th>\n",
              "                        <td id=\"T_45fedd42_4f05_11eb_aefb_0242ac1c0002row4_col0\" class=\"data row4 col0\" >Gaussian_Process</td>\n",
              "                        <td id=\"T_45fedd42_4f05_11eb_aefb_0242ac1c0002row4_col1\" class=\"data row4 col1\" >0.885000</td>\n",
              "            </tr>\n",
              "            <tr>\n",
              "                        <th id=\"T_45fedd42_4f05_11eb_aefb_0242ac1c0002level0_row5\" class=\"row_heading level0 row5\" >5</th>\n",
              "                        <td id=\"T_45fedd42_4f05_11eb_aefb_0242ac1c0002row5_col0\" class=\"data row5 col0\" >Gradient_Boosting</td>\n",
              "                        <td id=\"T_45fedd42_4f05_11eb_aefb_0242ac1c0002row5_col1\" class=\"data row5 col1\" >0.835000</td>\n",
              "            </tr>\n",
              "            <tr>\n",
              "                        <th id=\"T_45fedd42_4f05_11eb_aefb_0242ac1c0002level0_row6\" class=\"row_heading level0 row6\" >6</th>\n",
              "                        <td id=\"T_45fedd42_4f05_11eb_aefb_0242ac1c0002row6_col0\" class=\"data row6 col0\" >Decision_Tree</td>\n",
              "                        <td id=\"T_45fedd42_4f05_11eb_aefb_0242ac1c0002row6_col1\" class=\"data row6 col1\" >0.825000</td>\n",
              "            </tr>\n",
              "            <tr>\n",
              "                        <th id=\"T_45fedd42_4f05_11eb_aefb_0242ac1c0002level0_row7\" class=\"row_heading level0 row7\" >7</th>\n",
              "                        <td id=\"T_45fedd42_4f05_11eb_aefb_0242ac1c0002row7_col0\" class=\"data row7 col0\" >Extra_Trees</td>\n",
              "                        <td id=\"T_45fedd42_4f05_11eb_aefb_0242ac1c0002row7_col1\" class=\"data row7 col1\" >0.865000</td>\n",
              "            </tr>\n",
              "            <tr>\n",
              "                        <th id=\"T_45fedd42_4f05_11eb_aefb_0242ac1c0002level0_row8\" class=\"row_heading level0 row8\" >8</th>\n",
              "                        <td id=\"T_45fedd42_4f05_11eb_aefb_0242ac1c0002row8_col0\" class=\"data row8 col0\" >Random_Forest</td>\n",
              "                        <td id=\"T_45fedd42_4f05_11eb_aefb_0242ac1c0002row8_col1\" class=\"data row8 col1\" >0.880000</td>\n",
              "            </tr>\n",
              "            <tr>\n",
              "                        <th id=\"T_45fedd42_4f05_11eb_aefb_0242ac1c0002level0_row9\" class=\"row_heading level0 row9\" >9</th>\n",
              "                        <td id=\"T_45fedd42_4f05_11eb_aefb_0242ac1c0002row9_col0\" class=\"data row9 col0\" >Neural_Net</td>\n",
              "                        <td id=\"T_45fedd42_4f05_11eb_aefb_0242ac1c0002row9_col1\" class=\"data row9 col1\" >0.880000</td>\n",
              "            </tr>\n",
              "            <tr>\n",
              "                        <th id=\"T_45fedd42_4f05_11eb_aefb_0242ac1c0002level0_row10\" class=\"row_heading level0 row10\" >10</th>\n",
              "                        <td id=\"T_45fedd42_4f05_11eb_aefb_0242ac1c0002row10_col0\" class=\"data row10 col0\" >AdaBoost</td>\n",
              "                        <td id=\"T_45fedd42_4f05_11eb_aefb_0242ac1c0002row10_col1\" class=\"data row10 col1\" >0.870000</td>\n",
              "            </tr>\n",
              "            <tr>\n",
              "                        <th id=\"T_45fedd42_4f05_11eb_aefb_0242ac1c0002level0_row11\" class=\"row_heading level0 row11\" >11</th>\n",
              "                        <td id=\"T_45fedd42_4f05_11eb_aefb_0242ac1c0002row11_col0\" class=\"data row11 col0\" >Naive_Bayes</td>\n",
              "                        <td id=\"T_45fedd42_4f05_11eb_aefb_0242ac1c0002row11_col1\" class=\"data row11 col1\" >0.875000</td>\n",
              "            </tr>\n",
              "            <tr>\n",
              "                        <th id=\"T_45fedd42_4f05_11eb_aefb_0242ac1c0002level0_row12\" class=\"row_heading level0 row12\" >12</th>\n",
              "                        <td id=\"T_45fedd42_4f05_11eb_aefb_0242ac1c0002row12_col0\" class=\"data row12 col0\" >QDA</td>\n",
              "                        <td id=\"T_45fedd42_4f05_11eb_aefb_0242ac1c0002row12_col1\" class=\"data row12 col1\" >0.865000</td>\n",
              "            </tr>\n",
              "            <tr>\n",
              "                        <th id=\"T_45fedd42_4f05_11eb_aefb_0242ac1c0002level0_row13\" class=\"row_heading level0 row13\" >13</th>\n",
              "                        <td id=\"T_45fedd42_4f05_11eb_aefb_0242ac1c0002row13_col0\" class=\"data row13 col0\" >SGD</td>\n",
              "                        <td id=\"T_45fedd42_4f05_11eb_aefb_0242ac1c0002row13_col1\" class=\"data row13 col1\" >0.850000</td>\n",
              "            </tr>\n",
              "    </tbody></table>"
            ],
            "text/plain": [
              "<pandas.io.formats.style.Styler at 0x7f1b0a1e7d30>"
            ]
          },
          "metadata": {
            "tags": []
          },
          "execution_count": 15
        }
      ]
    },
    {
      "cell_type": "markdown",
      "metadata": {
        "id": "sB6vO2EcjOD1"
      },
      "source": [
        "### 4.4. Bar plot of model performance"
      ]
    },
    {
      "cell_type": "code",
      "metadata": {
        "scrolled": true,
        "colab": {
          "base_uri": "https://localhost:8080/",
          "height": 285
        },
        "id": "yr9rnEsYjOD1",
        "outputId": "5e641990-2146-4d92-a554-71a745281a8d"
      },
      "source": [
        "sns.set(style=\"whitegrid\")\n",
        "ax = sns.barplot(y=\"name\", x=\"score\", data=df)"
      ],
      "execution_count": null,
      "outputs": [
        {
          "output_type": "display_data",
          "data": {
            "image/png": "[encoded data removed]",
            "text/plain": [
              "<Figure size 432x288 with 1 Axes>"
            ]
          },
          "metadata": {
            "tags": []
          }
        }
      ]
    },
    {
      "cell_type": "markdown",
      "metadata": {
        "id": "8jG4nmKdjOD2"
      },
      "source": [
        "---"
      ]
    }
  ]
}